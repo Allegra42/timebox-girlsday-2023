{
 "cells": [
  {
   "cell_type": "markdown",
   "metadata": {
    "id": "Vnov9y4H89e7"
   },
   "source": [
    "# Python Einführung\n",
    "Willkommen! Dies ist eine interaktive Umgebung namens _jupyter notebook_, die es erlaubt, Python Code schnell auszuführen. jupyter notebooks bieten sich vor allem an, um mit mehreren Personen zusammenzuarbeiten und Code zu präsentieren. \n",
    "\n",
    "In diesem Notebook behandeln wir folgende Themen:\n",
    "0. Einführung in die Nutzung von jupyter notebooks\n",
    "1. Programmierung mit Python\n",
    "3. Weiterführende Python Konzepte\n",
    "\n",
    "Jedes Kapitel kannst du auf- und zuklappen. Sie enthalten #TODOs, sogenannte Platzhalter, die du mit deinem eigenen Code füllen kannst. Wir gehen heute jeden Schritt gemeinsam durch, du kannst jedoch auch gerne selbst in deinem Tempo daran arbeiten.\n",
    "\n",
    "Happy coding!"
   ]
  },
  {
   "cell_type": "markdown",
   "metadata": {
    "id": "zk5mq509YEaE"
   },
   "source": [
    "## 0. Einführung in die Nutzung von jupyter notebooks (Wenn du in der Thonny IDE programmierst kannst du dieses Kapitel ignorieren)"
   ]
  },
  {
   "cell_type": "markdown",
   "metadata": {
    "id": "xzy1FKMmkbz7"
   },
   "source": [
    "\n",
    "\n",
    "Ein notebook besteht aus mehreren Zellen, wobei eine Zelle eine Text- oder\n",
    "Code-zelle sein kann. Du kannst Zellen hinzufügen, indem du die Maus mittig \n",
    "über diese Zelle führst und auf `+Code` oder `+Text` klickst.\n",
    "\n",
    "\n",
    "\n",
    "\n",
    "\n",
    "\n",
    "\n",
    "\n"
   ]
  },
  {
   "cell_type": "markdown",
   "metadata": {
    "id": "eJYwmaVnkv8V"
   },
   "source": [
    "Code-Zellen können..\n",
    "\n",
    "- aus einem Kommentar bestehen oder\n",
    "- Programmcode ausführen\n",
    "\n"
   ]
  },
  {
   "cell_type": "code",
   "execution_count": null,
   "metadata": {
    "id": "IcXAgIC-jEgT"
   },
   "outputs": [],
   "source": [
    "print(\"Das ist ein Beispiel Programmcode, der etwas ausgiebt.\")"
   ]
  },
  {
   "cell_type": "code",
   "execution_count": null,
   "metadata": {
    "id": "siCufm2jl09D"
   },
   "outputs": [],
   "source": [
    "# Dies ist ein Kommentar, d.h. das Programm macht nichts"
   ]
  },
  {
   "cell_type": "markdown",
   "metadata": {
    "id": "i6NQ2nkMkLbR"
   },
   "source": [
    "## 1. Programmierung mit Python\n",
    "\n",
    "In diesem Kapitel sehen wir uns die Programmiersprache Python an. Eine erste\n",
    "Anweisung hast du oben bereits geschrieben. Mit Python kannst du viele weitere\n",
    "Anweisungen schreiben, um somit bspw. Pixel aufleuchten zu lassen. Bevor wir \n",
    "dies tun, lernen wir erste Python Konzepte kennen:\n",
    "\n",
    "- Befehle\n",
    "- Variablen\n",
    "- Konditionen\n",
    "- Listen\n",
    "- Schleifen\n",
    "- Funktionen\n"
   ]
  },
  {
   "cell_type": "markdown",
   "metadata": {
    "id": "9NRsj8J5w-ig"
   },
   "source": [
    "### Befehle\n",
    "Beim Programmieren schreiben wir Anweisungen, die wir auch Befehle nennen.\n",
    "Du kannst einfache Befehle, wie Addition, Division oder Multiplikation, schreiben."
   ]
  },
  {
   "cell_type": "markdown",
   "metadata": {
    "id": "i41eolZ4tGtc"
   },
   "source": [
    "Dies ist ein print Befehl mit einer Addition, d.h. der Befehl schreibt das\n",
    "Ergebnis der Addition aus.\n",
    "Kommentiere den Befehl aus, indem du `#` löschst und führe ihn mit Play aus.\n",
    "\n"
   ]
  },
  {
   "cell_type": "code",
   "execution_count": null,
   "metadata": {
    "id": "RHUXornOl3RD"
   },
   "outputs": [],
   "source": [
    "#print(1+2)"
   ]
  },
  {
   "cell_type": "code",
   "execution_count": null,
   "metadata": {
    "id": "5aUUlDRal5uk"
   },
   "outputs": [],
   "source": [
    "# TODO: Füge weitere Befehle hinzu\n",
    "#print()"
   ]
  },
  {
   "cell_type": "markdown",
   "metadata": {
    "id": "4_C_0jCUvzjN"
   },
   "source": [
    "### Variablen \n",
    "Die Ergebnisse obiger Befehle kannst du in sogenannten *Variablen* \n",
    "speichern, die du beliebig nennen kannst. Variablen sind dafür da, um Werte zu \n",
    "speichern, und diese später wiederzuverwenden. \n",
    "Variablen können Zahlen, Texte, Bedingungen und mehr speichern.\n",
    "\n",
    "Du kannst sie wie folgt definieren:\n",
    "\n",
    "```\n",
    "name_der_variable = <Befehl>\n",
    "```\n",
    "\n",
    "Wir gehen in diesem Kapitel auf die folgenden Datentypen ein:\n",
    "- Numbers (Zahlen)\n",
    "- Strings (Texte)\n",
    "- Bool (Werte `True` oder `False`)\n",
    "\n"
   ]
  },
  {
   "cell_type": "markdown",
   "metadata": {
    "id": "oHj1HzmEwFEx"
   },
   "source": [
    "#### Numbers (Zahlen)\n",
    "Wir nennen Zahlen *Numbers*, welche ganze Zahlen, Kommazahlen und mehr sein \n",
    "können.\n",
    "Ganze Zahlen nennen wir *integer*, kurz *int*."
   ]
  },
  {
   "cell_type": "markdown",
   "metadata": {
    "id": "fiJIdLBFsBLd"
   },
   "source": [
    "Speichere ein Befehl in einer Variable namens `summe`.\n",
    "Du kannst sie auch umbenennen."
   ]
  },
  {
   "cell_type": "code",
   "execution_count": null,
   "metadata": {
    "id": "EGxRM_wnmk7_"
   },
   "outputs": [],
   "source": [
    "#summe = 1+2\n",
    "#print(summe)"
   ]
  },
  {
   "cell_type": "markdown",
   "metadata": {
    "id": "OFhXVYxSsEaX"
   },
   "source": [
    "Du kannst einer Variable auch einen einfachen Wert zuweisen."
   ]
  },
  {
   "cell_type": "code",
   "execution_count": null,
   "metadata": {
    "id": "g1LCK3humjii"
   },
   "outputs": [],
   "source": [
    "#alter = 27\n",
    "#print(alter)"
   ]
  },
  {
   "cell_type": "markdown",
   "metadata": {
    "id": "z1G9TUdvsIyv"
   },
   "source": [
    "Du kannst Variablen wiederverwenden, indem du beispielsweise Berechnungen \n",
    "mit ihnen ausführst."
   ]
  },
  {
   "cell_type": "code",
   "execution_count": null,
   "metadata": {
    "id": "5mAkpr3smXSg"
   },
   "outputs": [],
   "source": [
    "#alter_meines_bruders = alter - 2\n",
    "#print(alter_meines_bruders)"
   ]
  },
  {
   "cell_type": "markdown",
   "metadata": {
    "id": "fmyoyJV3wH3h"
   },
   "source": [
    "#### Strings (Texte)\n",
    "Wir können nicht nur Zahlenwerte, sondern auch einen Text in einer Variablen\n",
    "speichern. Diese Texte nennen wir *string*.\n",
    "Strings werden mit Anführungsstrichen markiert."
   ]
  },
  {
   "cell_type": "markdown",
   "metadata": {
    "id": "lc8bKvbDsUNY"
   },
   "source": [
    "Hier definieren wir die Variable namens `stadt` mit dem Text `Muenchen`."
   ]
  },
  {
   "cell_type": "code",
   "execution_count": null,
   "metadata": {
    "id": "lfgHsT89Dcy0"
   },
   "outputs": [],
   "source": [
    "#stadt = \"Muenchen\"\n",
    "#print(stadt)"
   ]
  },
  {
   "cell_type": "markdown",
   "metadata": {
    "id": "l_JW5zMQsX02"
   },
   "source": [
    "Wenn wir eine Variable mit mehreren Wörtern benennen möchten, trennen wir sie \n",
    "mit einem Untenstrich ab."
   ]
  },
  {
   "cell_type": "code",
   "execution_count": null,
   "metadata": {
    "id": "yZxuk1kDmhS4"
   },
   "outputs": [],
   "source": [
    "#mein_name = \"Mai\" \n",
    "#print(mein_name)"
   ]
  },
  {
   "cell_type": "markdown",
   "metadata": {
    "id": "8ihRxsDZyNum"
   },
   "source": [
    "### Bedingungen und der Datentyp bool\n",
    "Mithilfe von Bedingungen können wir bestimmte Befehle ausführen oder \n",
    "ignorieren.\n",
    "Eine Bedingung kann entweder `True` (wahr) oder `False` (falsch) sein. \n",
    "Die Werte `True` und `False` sind vom Datentyp `bool`.\n",
    "Eine Bedingung resultiert also in ein `bool`. Sie werden wie folgt definiert:\n",
    "\n",
    "\n",
    "```\n",
    "if (Bedingung):\n",
    "  # tu etwas\n",
    "else:\n",
    "  # tu etwas anderes\n",
    "```\n",
    "\n"
   ]
  },
  {
   "cell_type": "markdown",
   "metadata": {
    "id": "J5V5TlrvqieZ"
   },
   "source": [
    "Eine Bedingung kann bspw. anhand von numerischen Vergleichen geschrieben werden.\n",
    "\n",
    "Beispiel: \n",
    "\n",
    "```\n",
    "Wenn (das Alter größer ist als 12 Jahre):\n",
    "  dann schreibe aus, dass ich älter als 12 Jahre bin und am Girlsday \n",
    "  teilnehmen kann\n",
    "andernfalls\n",
    "  schreibe aus, dass ich 12 Jahre oder jünger bin und leider noch nicht am \n",
    "  Girlsday teilnehmen kann\n",
    "```\n",
    "\n",
    "Vergleiche zwischen zwei Zahlen kannst du mit den Zeichen <, <= oder > \n",
    "schreiben."
   ]
  },
  {
   "cell_type": "code",
   "execution_count": null,
   "metadata": {
    "id": "hNFBRsN1G9pn"
   },
   "outputs": [],
   "source": [
    "# TODO: Ergänze die untenstehende Bedingung im Code\n",
    "#if alter > 12:\n",
    "#  print(\"Ich bin älter als 12 Jahre und darf beim Girlsday teilnehmen.\")\n",
    "#else:\n",
    "#  print(\"Ich bin 12 Jahre oder jünger und muss mich noch gedulden bis ich am Girlsday teilnehmen kann.\")"
   ]
  },
  {
   "cell_type": "markdown",
   "metadata": {
    "id": "cP4JBKqUjTZR"
   },
   "source": [
    "### Listen\n",
    "Wir haben einer Variable bisher nur einen Wert übergeben. Wir können jedoch \n",
    "auch mehrere Werte in einer Art Liste sammeln, was wir in Python `list` nennen. \n",
    "Eine `list` ist eine Datenstruktur, die mehrere Werte unterschiedlicher Typen \n",
    "(bspw.`int`, `string`) beinhalten kann. Man kann eine Liste im Nachgang auch \n",
    "verändern, indem man Werte hinzufügt oder wegnimmt, und viele weitere \n",
    "Operationen mit Listen machen. Falls es euch interessiert, könnt ihr [hier]\n",
    "(https://www.programiz.com/python-programming/list) reinklicken. Wir werden uns\n",
    "heute jedoch nur den Listenzugriff ansehen. Eine Liste mit Werte des Typen \n",
    " `string` kann wie untenstehend definiert werden:\n",
    "\n",
    "\n",
    "```\n",
    "name_der_liste = [\"eintrag1\", \"eintrag2\"]\n",
    "```\n",
    "\n"
   ]
  },
  {
   "cell_type": "markdown",
   "metadata": {
    "id": "-gBXV5pWoodn"
   },
   "source": [
    "#### Erstelle eine Liste\n",
    "Hier erstellen wir eine Liste mit `strings`, die wir in der Variable \n",
    "`familien_namen` speichern. Jeder Name bzw. Eintrag wird als *Element* oder im \n",
    "Englischen *Item* bezeichnet."
   ]
  },
  {
   "cell_type": "code",
   "execution_count": null,
   "metadata": {
    "id": "Ldgw6RWEjVQV"
   },
   "outputs": [],
   "source": [
    "# TODO: Ersetze die Namen oder füge weitere hinzu, indem du diese mit einem Komma abtrennst\n",
    "#familien_namen = [\"Maria\", \"Martin\", \"Mai\"]\n",
    "## index\t          \t0 \t\t\t1\t      \t2\n",
    "#print(familien_namen)"
   ]
  },
  {
   "cell_type": "markdown",
   "metadata": {
    "id": "JFPdQV_komYz"
   },
   "source": [
    "#### Zugriff auf Einträge einer Liste\n",
    "Listen sind sehr vorteilhaft, um mehrere Daten in einer Struktur zu speichern.\n",
    "Somit brauchen wir nicht für jeden Namen (oder auch das Alter) eine neue\n",
    "Variable zu definieren. \n",
    "Listen sind geordnet, d.h. sie enthalten eine Reihe von Einträgen in einer\n",
    "bestimmten Reihenfolge. Dabei nummerieren wir die Einträge einfach\n",
    "durch, d.h. der erste Eintrag wäre im obigen Beispiel der Name \"Maria\", der\n",
    "zweite Eintrag der Name \"Martin\" und der dritte sowie letzte Eintrag ist der\n",
    "Name \"Mai\". Diese Durchnummerierung nennen wir in der Programmierung *Index*.\n",
    "Ein Index ist eine Nummer, die wir verwenden, um auf die Einträge einer Liste\n",
    "zuzugreifen. Wir Informatiker starten beim Zählen mit der 0, d.h. das erste\n",
    "Eintrag besitzt den Index 0, der zweite den Index 1, usw. Der Zugriff erfolgt\n",
    "bspw. mit\n",
    "\n",
    "\n",
    "```\n",
    "name_der_liste[i] # i steht für eine Zahl zwischen 0 und der Länge der Liste - 1\n",
    "```\n",
    "\n"
   ]
  },
  {
   "cell_type": "markdown",
   "metadata": {
    "id": "MmoRHPoMsbbg"
   },
   "source": [
    "Hiermit greifen wir auf den ersten Eintrag der Liste zu."
   ]
  },
  {
   "cell_type": "code",
   "execution_count": null,
   "metadata": {
    "id": "iefzEFY1nXui"
   },
   "outputs": [],
   "source": [
    "#print(familien_namen[0]) # Der index des ersten Eintrags ist 0"
   ]
  },
  {
   "cell_type": "markdown",
   "metadata": {
    "id": "frgMYd499aQ2"
   },
   "source": [
    "### Schleifen\n",
    "Schleifen sind dafür da, um Code, den wir oft schreiben, zu vereinfachen. Somit\n",
    "sparen wir uns die Schreibarbeit und der Code ist einfacher zu lesen. Du kannst\n",
    "Schleifen wie folgt definieren:\n",
    "\n",
    "\n",
    "```\n",
    "for eintrag in einer_liste:\n",
    "  # tu etwas\n",
    "```"
   ]
  },
  {
   "cell_type": "markdown",
   "metadata": {
    "id": "oEhd3NKcsfAW"
   },
   "source": [
    "Beispiel: Grüße alle Familienmitglieder, indem du ausschreibst \"Hallo, `name`\".\n",
    "Dafür kannst du den print Befehl und die oben definierte Liste \n",
    "verwenden."
   ]
  },
  {
   "cell_type": "code",
   "execution_count": null,
   "metadata": {
    "id": "3kA8U7RZnfmg"
   },
   "outputs": [],
   "source": [
    "#print(\"Hallo, \" + familien_namen[0])\n",
    "#print(\"Hallo, \" + familien_namen[1])\n",
    "#print(\"Hallo, \" + familien_namen[2])"
   ]
  },
  {
   "cell_type": "markdown",
   "metadata": {
    "id": "jRJ35F7msjwb"
   },
   "source": [
    "Du hast nun denselben Code mehrmals geschrieben, bloß, dass jede Zeile \n",
    "einen anderen Index verwendet.\n",
    "Schleifen ermöglichen es dir, einen bestimmten Code mehrmals laufen zu lassen.\n",
    "Dafür musst du vorab wissen: Welchen Befehl möchtest du ausführen und wie\n",
    "oft soll der Befehl ausgeführt werden?\n",
    "Die Schreibweise hierfür wäre:"
   ]
  },
  {
   "cell_type": "code",
   "execution_count": null,
   "metadata": {
    "id": "2JJBs6-2nj61"
   },
   "outputs": [],
   "source": [
    "# familien_namen = [\"Maria\", \"Martin\", \"Mai\"]\n",
    "#for name in familien_namen: # für jeden Namen in der Liste familien_namen\n",
    "#  # im 1. Durchlauf ist name=\"Maria\"\n",
    "#  # im 2. Durchlauf ist name=\"Martin\"\n",
    "#  # im 3. Durchlauf ist name=\"Mai\"\n",
    "#  print(\"Hallo, \" + name) # schreibe \"Hallo, <name>\" aus"
   ]
  },
  {
   "cell_type": "code",
   "execution_count": null,
   "metadata": {
    "id": "1qVKhnFrr8qO"
   },
   "outputs": [],
   "source": [
    "# TODO: Hier kannst du eigene Schleifen bauen, bspw. mit einer neuen Liste familien_alter\n"
   ]
  },
  {
   "cell_type": "markdown",
   "metadata": {
    "id": "U5__aZhByk2T"
   },
   "source": [
    "### Funktionen\n",
    "Bisher hast du wahrscheinlich gemerkt, dass wir vieles wiederholt und isoliert geschrieben haben, wie z.B. Variablendefinitionen.\n",
    "Wir möchten große Codeblöcke, wie Variablendefinitionen und Schleifen \n",
    "gruppieren, damit wir sie öfter wiederverwenden können. \n",
    "Dies bilden wir mit sogenannten Funktionen ab, die wir wie folgt definieren:\n",
    "\n",
    "\n",
    "```\n",
    "def name_der_funktion():\n",
    "  # tu etwas\n",
    "```\n",
    "\n",
    "Du rufst eine Funktion einfach mit den Namen und den geschweiften Klammern auf\n",
    "\n",
    "\n",
    "```\n",
    "name_der_funktion()\n",
    "```\n",
    "\n",
    "\n",
    "\n"
   ]
  },
  {
   "cell_type": "markdown",
   "metadata": {
    "id": "WBeCEfplztYf"
   },
   "source": [
    "#### Erstelle eine Funktion"
   ]
  },
  {
   "cell_type": "markdown",
   "metadata": {
    "id": "EDe-lk_FsoZv"
   },
   "source": [
    "Diese Funktion heißt greet und schreibt ein einfaches Hallo aus."
   ]
  },
  {
   "cell_type": "code",
   "execution_count": null,
   "metadata": {
    "id": "P2J3plY-9m_M"
   },
   "outputs": [],
   "source": [
    "#def sag_hallo():\n",
    "#  print(\"Hallo\")"
   ]
  },
  {
   "cell_type": "markdown",
   "metadata": {
    "id": "LG65rHd9srfN"
   },
   "source": [
    "Rufe obig definierte Funktion auf."
   ]
  },
  {
   "cell_type": "code",
   "execution_count": null,
   "metadata": {
    "id": "xWD8RNQWz2RL"
   },
   "outputs": [],
   "source": [
    "#sag_hallo()"
   ]
  },
  {
   "cell_type": "markdown",
   "metadata": {
    "id": "OQ4yjFXQ9qyY"
   },
   "source": [
    "#### Funktionen mit Parametern\n",
    "Funktionen kannst du sogar Informationen (sog. _Parameter_) mitgeben, die so\n",
    "benamt werden können, wie du möchtest. Sie sehen wie folgt aus:\n",
    "\n",
    "```\n",
    "def meine_funktion(information):\n",
    "  # tu etwas\n",
    "  print(information) # Beispiel: schreibe die information aus\n",
    "  # tu noch etwas\n",
    "```\n",
    "\n",
    "Du rufst die Funktion dann einfach mit einer Beispiel Information auf:\n",
    "\n",
    "\n",
    "```\n",
    "meine_funktion(\"Informationsbeispiel\")\n",
    "```\n",
    "\n"
   ]
  },
  {
   "cell_type": "markdown",
   "metadata": {
    "id": "E-p9STwcsu_-"
   },
   "source": [
    "Schreibe eine Funktion, die deinen Namen ausgibt."
   ]
  },
  {
   "cell_type": "code",
   "execution_count": null,
   "metadata": {
    "id": "gXFyG8yP9qer"
   },
   "outputs": [],
   "source": [
    "#def sag_hallo(name): # die Funktion heißt sag_hallo und bekommt die Information über einen Namen mit\n",
    "#  print(\"Hallo, \" + name + \"!\")"
   ]
  },
  {
   "cell_type": "markdown",
   "metadata": {
    "id": "81m3tn25sz9H"
   },
   "source": [
    "Rufe die Funktion mit deinem Namen auf."
   ]
  },
  {
   "cell_type": "code",
   "execution_count": null,
   "metadata": {
    "id": "XOyOXjWsKKjD"
   },
   "outputs": [],
   "source": [
    "#sag_hallo(\"Mai\")"
   ]
  },
  {
   "cell_type": "markdown",
   "metadata": {
    "id": "65ZWIXqk9tzM"
   },
   "source": [
    "#### Aufruf von Funktionen in Funktionen\n",
    "Beim Programmieren versuchen wir so wenig wie möglich Befehle doppelt zu \n",
    "schreiben. Nehmen wir an, zu einer Begrüßung können neben dem Namen noch \n",
    "detailliertere Informationen zu einer Person angegeben werden. Dafür ziehen wir\n",
    "das Alter als Beispiel heran. Hier kannst du eine weitere Funktion schreiben. \n",
    "Eine Funktion kann dann auch in einer anderen Funktion aufgerufen werden.\n",
    "\n",
    "\n",
    "```\n",
    "def haupt_funktion(x):\n",
    "  # Tu etwas\n",
    "  eine_andere_funktion(x)\n",
    "```\n",
    "\n"
   ]
  },
  {
   "cell_type": "markdown",
   "metadata": {
    "id": "ZHEYBV6Kofvr"
   },
   "source": [
    "Dafür definieren wir zunächst eine Funktion, die dein Alter ausgiebt"
   ]
  },
  {
   "cell_type": "code",
   "execution_count": null,
   "metadata": {
    "id": "YxtNlhn29wAf"
   },
   "outputs": [],
   "source": [
    "#def schreibe_alter(alter):\n",
    "#  # str() ist eine Standard Python-Funktion, die aus einem Integer einen string-Typ erzeugt\n",
    "#  # dies ist wichtig, wenn wir mehrere strings mit einem + zusammenführen möchten\n",
    "#  print(\"Ich bin \" + str(alter) + \"Jahre alt.\") \n"
   ]
  },
  {
   "cell_type": "code",
   "execution_count": null,
   "metadata": {
    "id": "RDS_gYdrocVJ"
   },
   "outputs": [],
   "source": [
    "# TODO: rufe diese Funktion mit einem Beispiel Alter auf\n",
    "#schreibe_alter(27)"
   ]
  },
  {
   "cell_type": "markdown",
   "metadata": {
    "id": "06NxvLnkoWKW"
   },
   "source": [
    "Nun wollen wir die Begrüßung sowohl mit einem Namen aus auch mit dem Alter \n",
    "schreiben.\n",
    "Dafür können wir eine neue Funktion schreiben, die beides macht.\n",
    "\n",
    "Wenn wir für `sag_hallo` den Namen als Information brauchen, und für `schreibe_alter` das\n",
    "Alter, können wir in der neuen Funktion beide Informationen mitgeben.\n",
    "\n",
    "Die Informationen `name` und `age` sind die Parameter der Funktion."
   ]
  },
  {
   "cell_type": "code",
   "execution_count": null,
   "metadata": {
    "id": "NgRcKpJBtU7V"
   },
   "outputs": [],
   "source": [
    "#def begruesse_mit_alter(name, alter): # die Funktion heißt begruesse_mit_alter und nimmt die Parameter name und alter an\n",
    "#  sag_hallo(name) # Hier rufen wir die Funktion sag_hallo mit dem Parameter name auf\n",
    "#  schreibe_alter(alter) # Hier rufen wir die Funktion schreibe_alter mit dem Parameter alter auf"
   ]
  },
  {
   "cell_type": "code",
   "execution_count": null,
   "metadata": {
    "id": "46T_zmefuIFz"
   },
   "outputs": [],
   "source": [
    "# TODO: Rufe die Funktion begruesse_mit_alter mit einem Beispiel Namen und Alter auf\n",
    "\n",
    "#begruesse_mit_alter(\"Mai\", 27)"
   ]
  },
  {
   "cell_type": "markdown",
   "metadata": {
    "id": "-yJ-KOW_9Gac"
   },
   "source": [
    "## 2. Weiterführende Python Konzepte\n",
    "* Bibliotheken\n",
    "* Tupel und Listen\n",
    "\n",
    "\n"
   ]
  },
  {
   "cell_type": "markdown",
   "metadata": {
    "id": "Y2Js5uit9Q7M"
   },
   "source": [
    "### Bibliotheken\n",
    "Es gibt allgemein bekannte Berechnung, die sehr häufig im Alltag verwendet \n",
    "werden, wie die Zeitabfrage oder arithmetische Funktionen. Damit du nicht alle \n",
    "Funktionalitäten neu schreiben musst, bietet Python sogenannte Bibliotheken an,\n",
    "die Programmcode in Funktionen beinhalten, welche du einfach verwenden kannst. \n",
    "Du rufst sie wie deine eigenen Funktionen auf. Damit deine Python Datei jedoch \n",
    "die Funktionsnamen kennt, müssen sie einmal - meist zu Beginn einer Datei -\n",
    "vorher importiert werden. Die Importe schreibst du mit\n",
    "\n",
    "*   `from <package> import <module>` oder\n",
    "*   `import <package>`\n",
    "\n",
    "Bibliotheksfunktionen kannst du dann mit einer Punkt-Notation aufrufen \n",
    "\n",
    "\n",
    "```\n",
    "<module>.<function_name>()\n",
    "```\n",
    "\n",
    "\n",
    "\n",
    "\n",
    "Welche Bibliotheken verfügbar sind, findest du online (https://docs.python.org/3/library/index.html). \n",
    "Da Python recht viele davon hat, kannst du heute einfach uns fragen :)\n",
    "Alle Bibliotheken, die wir brauchen, haben wir jedoch für heute vorgegeben."
   ]
  },
  {
   "cell_type": "markdown",
   "metadata": {
    "id": "hTSH1Mpboq4q"
   },
   "source": [
    "Die `datetime` Bibliothek bietet dir Funktionen an, um das Datum oder die Zeit \n",
    "abzufragen. Zunächst importieren wir das Modul der Bibliothek."
   ]
  },
  {
   "cell_type": "code",
   "execution_count": null,
   "metadata": {
    "id": "ELYghI50Xt_k"
   },
   "outputs": [],
   "source": [
    "from datetime import datetime"
   ]
  },
  {
   "cell_type": "markdown",
   "metadata": {
    "id": "Dv8mISrkopPU"
   },
   "source": [
    "Frage sowohl das heutige Datum als auch die jetzige Zeit ab und speichere sie \n",
    "in der Variable `jetzt`."
   ]
  },
  {
   "cell_type": "code",
   "execution_count": null,
   "metadata": {
    "id": "rqmLp0tsXviW"
   },
   "outputs": [],
   "source": [
    "jetzt = datetime.now()\n",
    "print(jetzt)"
   ]
  },
  {
   "cell_type": "markdown",
   "metadata": {
    "id": "jO4yxRS09TF4"
   },
   "source": [
    "### Tupel und Listen\n",
    "Bisher hast du die Datenstruktur `list` kennengelernt. Eine weitere ähnliche \n",
    "Datenstruktur nennt sich `tuple` und kann so wie die Liste mehrere Einträge\n",
    "beinhalten. Sie wird folgendermaßen definiert\n",
    "\n",
    "\n",
    "```\n",
    "name_des_tuples = (1,2,3)\n",
    "```\n",
    "\n",
    "Du siehst, dass wir hier statt eckige, geschweifte Klammern verwenden und die \n",
    "Einträge auch mit einem Komma abtrennen. Im Gegensatz zu Listen sind Tupel \n",
    "unveränderbar, d.h. man kann im Nachgang keine weiteren Einträge hinzufügen.\n",
    "\n",
    "Wann würden wir Tupel eher als Listen verwenden?\n",
    "\n",
    "- Wenn wir wissen, dass wir nur eine bestimmte Anzahl von Werten speichern wollen.\n",
    "- Wenn wir Werte speichern möchten, die sich nicht mehr ändern.\n",
    "- Oft verwenden wir unterschiedliche Datentypen (string, integers, ..) in Tupel\n",
    "und gleiche Datentypen in Listen (obwohl auch diese unterschiedliche Datentypen \n",
    "beinhalten können).\n",
    "\n"
   ]
  },
  {
   "cell_type": "markdown",
   "metadata": {
    "id": "-u55yeqE4bFh"
   },
   "source": [
    "#### Erstelle ein Tupel\n",
    "Wir möchten Farbwerte in einem Tupel darstellen. Hierfür geben wir RGB (=Rot, \n",
    "Grün, Blau) Werte an. Das Tupel besteht also aus 3 Elementen, die für die \n",
    "Farben Rot, Grün, Blau stehen. Jedes Element kann einen Wert zwischen 0 und 255 \n",
    "annehmen, wobei 0 für wenig und 255 für einen hohen Anteil der Farbe steht. \n",
    "\n",
    "Beispiele für Farben sind\n",
    "- rot: (255,0,0)\n",
    "- grün: (0,255,0)\n",
    "- blau: (0,0,255)\n",
    "\n",
    "Wenn du eine andere Farbe darstellen möchtest, kannst du sie aus den drei Farben mischen, bspw:\n",
    "- gelb: (255,255,0)\n",
    "\n",
    "Die RGB Codes kannst du auch online einsehen: https://www.rapidtables.com/web/color/RGB_Color.html"
   ]
  },
  {
   "cell_type": "markdown",
   "metadata": {
    "id": "c0sR3YAarU7e"
   },
   "source": [
    "Hier definieren wir einen Tupel mit den RGB Werten für die Farbe Rot."
   ]
  },
  {
   "cell_type": "code",
   "execution_count": null,
   "metadata": {
    "id": "cBpW39PCvU1y"
   },
   "outputs": [],
   "source": [
    "#rot = (255,0,0)"
   ]
  },
  {
   "cell_type": "code",
   "execution_count": null,
   "metadata": {
    "id": "7sAm-gZC4j_T"
   },
   "outputs": [],
   "source": [
    "# TODO: definiere weitere Farben\n"
   ]
  },
  {
   "cell_type": "markdown",
   "metadata": {
    "id": "nnIomvev4ZWh"
   },
   "source": [
    "#### Zeige deine Farben an (nur im Notebook)\n",
    "Die Farben, die du oben definiert hast, möchten wir nun visuell anzeigen. "
   ]
  },
  {
   "cell_type": "markdown",
   "metadata": {
    "id": "hg3D25rwo9Fv"
   },
   "source": [
    "Dafür importieren wir ein Modul der Bibliothek matplotlib."
   ]
  },
  {
   "cell_type": "code",
   "execution_count": null,
   "metadata": {
    "id": "RfQR_E_ZpATc"
   },
   "outputs": [],
   "source": [
    "#import matplotlib.pyplot as plt"
   ]
  },
  {
   "cell_type": "markdown",
   "metadata": {
    "id": "AuH7LTQ5pD98"
   },
   "source": [
    "Dieser Code zeigt deine Farbe."
   ]
  },
  {
   "cell_type": "code",
   "execution_count": null,
   "metadata": {
    "id": "C38bEzbrpCrR"
   },
   "outputs": [],
   "source": [
    "# TODO: ersetze rot mit deiner Farbe\n",
    "#plt.imshow([[rot]])"
   ]
  }
 ],
 "metadata": {
  "colab": {
   "collapsed_sections": [
    "zk5mq509YEaE"
   ],
   "provenance": []
  },
  "kernelspec": {
   "display_name": "Python 3 (ipykernel)",
   "language": "python",
   "name": "python3"
  },
  "language_info": {
   "codemirror_mode": {
    "name": "ipython",
    "version": 3
   },
   "file_extension": ".py",
   "mimetype": "text/x-python",
   "name": "python",
   "nbconvert_exporter": "python",
   "pygments_lexer": "ipython3",
   "version": "3.9.5"
  }
 },
 "nbformat": 4,
 "nbformat_minor": 1
}
